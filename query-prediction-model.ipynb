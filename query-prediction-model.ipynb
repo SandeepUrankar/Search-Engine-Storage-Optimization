{
 "cells": [
  {
   "cell_type": "code",
   "execution_count": 1,
   "id": "f760f7c4",
   "metadata": {
    "_cell_guid": "b1076dfc-b9ad-4769-8c92-a6c4dae69d19",
    "_uuid": "8f2839f25d086af736a60e9eeb907d3b93b6e0e5",
    "execution": {
     "iopub.execute_input": "2022-12-21T19:49:39.139203Z",
     "iopub.status.busy": "2022-12-21T19:49:39.138262Z",
     "iopub.status.idle": "2022-12-21T19:49:46.657258Z",
     "shell.execute_reply": "2022-12-21T19:49:46.656086Z"
    },
    "papermill": {
     "duration": 7.53001,
     "end_time": "2022-12-21T19:49:46.661419",
     "exception": false,
     "start_time": "2022-12-21T19:49:39.131409",
     "status": "completed"
    },
    "tags": []
   },
   "outputs": [
    {
     "ename": "ModuleNotFoundError",
     "evalue": "No module named 'keras.layers.embeddings'",
     "output_type": "error",
     "traceback": [
      "\u001b[1;31m---------------------------------------------------------------------------\u001b[0m",
      "\u001b[1;31mModuleNotFoundError\u001b[0m                       Traceback (most recent call last)",
      "Cell \u001b[1;32mIn [1], line 14\u001b[0m\n\u001b[0;32m     12\u001b[0m \u001b[39mfrom\u001b[39;00m \u001b[39mkeras\u001b[39;00m\u001b[39m.\u001b[39;00m\u001b[39mpreprocessing\u001b[39;00m\u001b[39m.\u001b[39;00m\u001b[39mtext\u001b[39;00m \u001b[39mimport\u001b[39;00m Tokenizer\n\u001b[0;32m     13\u001b[0m \u001b[39mfrom\u001b[39;00m \u001b[39mkeras\u001b[39;00m\u001b[39m.\u001b[39;00m\u001b[39mlayers\u001b[39;00m\u001b[39m.\u001b[39;00m\u001b[39mcore\u001b[39;00m \u001b[39mimport\u001b[39;00m Dense, SpatialDropout1D\n\u001b[1;32m---> 14\u001b[0m \u001b[39mfrom\u001b[39;00m \u001b[39mkeras\u001b[39;00m\u001b[39m.\u001b[39;00m\u001b[39mlayers\u001b[39;00m\u001b[39m.\u001b[39;00m\u001b[39membeddings\u001b[39;00m \u001b[39mimport\u001b[39;00m Embedding\n\u001b[0;32m     15\u001b[0m \u001b[39mfrom\u001b[39;00m \u001b[39mkeras\u001b[39;00m\u001b[39m.\u001b[39;00m\u001b[39mmodels\u001b[39;00m \u001b[39mimport\u001b[39;00m Sequential\n\u001b[0;32m     16\u001b[0m \u001b[39mfrom\u001b[39;00m \u001b[39mkeras\u001b[39;00m\u001b[39m.\u001b[39;00m\u001b[39mpreprocessing\u001b[39;00m\u001b[39m.\u001b[39;00m\u001b[39msequence\u001b[39;00m \u001b[39mimport\u001b[39;00m pad_sequences\n",
      "\u001b[1;31mModuleNotFoundError\u001b[0m: No module named 'keras.layers.embeddings'"
     ]
    }
   ],
   "source": [
    "# This Python 3 environment comes with many helpful analytics libraries installed\n",
    "# It is defined by the kaggle/python Docker image: https://github.com/kaggle/docker-python\n",
    "# For example, here's several helpful packages to load\n",
    "\n",
    "import numpy as np # linear algebra\n",
    "import pandas as pd # data processing, CSV file I/O (e.g. pd.read_csv)\n",
    "import regex as re\n",
    "import nltk\n",
    "from nltk.corpus import stopwords\n",
    "import numpy as np\n",
    "from tensorflow.keras.layers import LSTM\n",
    "from keras.preprocessing.text import Tokenizer\n",
    "from keras.layers.core import Dense, SpatialDropout1D\n",
    "from keras.layers.embeddings import Embedding\n",
    "from keras.models import Sequential\n",
    "from keras.preprocessing.sequence import pad_sequences\n",
    "from tensorflow.keras.models import save_model, load_model\n",
    "\n",
    "from keras.callbacks import EarlyStopping\n",
    "from sklearn.model_selection import train_test_split\n",
    "from sklearn.preprocessing import LabelEncoder\n",
    "import torch\n",
    "import math, time\n",
    "import tensorflow as tf\n",
    "from scipy.special import softmax\n",
    "\n",
    "# Input data files are available in the read-only \"../input/\" directory\n",
    "# For example, running this (by clicking run or pressing Shift+Enter) will list all files under the input directory\n",
    "\n",
    "import os\n",
    "for dirname, _, filenames in os.walk('/kaggle/input'):\n",
    "    for filename in filenames:\n",
    "        print(os.path.join(dirname, filename))\n",
    "\n",
    "# You can write up to 20GB to the current directory (/kaggle/working/) that gets preserved as output when you create a version using \"Save & Run All\" \n",
    "# You can also write temporary files to /kaggle/temp/, but they won't be saved outside of the current session"
   ]
  },
  {
   "cell_type": "code",
   "execution_count": 2,
   "id": "e7df0be8",
   "metadata": {
    "execution": {
     "iopub.execute_input": "2022-12-21T19:49:46.673616Z",
     "iopub.status.busy": "2022-12-21T19:49:46.672356Z",
     "iopub.status.idle": "2022-12-21T19:49:46.742535Z",
     "shell.execute_reply": "2022-12-21T19:49:46.741594Z"
    },
    "papermill": {
     "duration": 0.078193,
     "end_time": "2022-12-21T19:49:46.744684",
     "exception": false,
     "start_time": "2022-12-21T19:49:46.666491",
     "status": "completed"
    },
    "tags": []
   },
   "outputs": [],
   "source": [
    "data = pd.read_csv('/kaggle/input/queries/queries.csv')"
   ]
  },
  {
   "cell_type": "code",
   "execution_count": 3,
   "id": "221392b9",
   "metadata": {
    "execution": {
     "iopub.execute_input": "2022-12-21T19:49:46.756600Z",
     "iopub.status.busy": "2022-12-21T19:49:46.755043Z",
     "iopub.status.idle": "2022-12-21T19:49:46.773115Z",
     "shell.execute_reply": "2022-12-21T19:49:46.772114Z"
    },
    "papermill": {
     "duration": 0.026133,
     "end_time": "2022-12-21T19:49:46.775568",
     "exception": false,
     "start_time": "2022-12-21T19:49:46.749435",
     "status": "completed"
    },
    "tags": []
   },
   "outputs": [
    {
     "data": {
      "text/html": [
       "<div>\n",
       "<style scoped>\n",
       "    .dataframe tbody tr th:only-of-type {\n",
       "        vertical-align: middle;\n",
       "    }\n",
       "\n",
       "    .dataframe tbody tr th {\n",
       "        vertical-align: top;\n",
       "    }\n",
       "\n",
       "    .dataframe thead th {\n",
       "        text-align: right;\n",
       "    }\n",
       "</style>\n",
       "<table border=\"1\" class=\"dataframe\">\n",
       "  <thead>\n",
       "    <tr style=\"text-align: right;\">\n",
       "      <th></th>\n",
       "      <th>queries</th>\n",
       "      <th>files</th>\n",
       "    </tr>\n",
       "  </thead>\n",
       "  <tbody>\n",
       "    <tr>\n",
       "      <th>0</th>\n",
       "      <td>minimum-focusing-distance 0.49-m</td>\n",
       "      <td>CameraLens</td>\n",
       "    </tr>\n",
       "    <tr>\n",
       "      <th>1</th>\n",
       "      <td>maximum-magnification-(x)</td>\n",
       "      <td>CameraLens</td>\n",
       "    </tr>\n",
       "    <tr>\n",
       "      <th>2</th>\n",
       "      <td>maximum-focal-length</td>\n",
       "      <td>CameraLens</td>\n",
       "    </tr>\n",
       "    <tr>\n",
       "      <th>3</th>\n",
       "      <td>lens-cap snap-on</td>\n",
       "      <td>CameraLens</td>\n",
       "    </tr>\n",
       "    <tr>\n",
       "      <th>4</th>\n",
       "      <td>black</td>\n",
       "      <td>CameraLens</td>\n",
       "    </tr>\n",
       "    <tr>\n",
       "      <th>...</th>\n",
       "      <td>...</td>\n",
       "      <td>...</td>\n",
       "    </tr>\n",
       "    <tr>\n",
       "      <th>22152</th>\n",
       "      <td>model-number itemmart-m4-black model-number sw...</td>\n",
       "      <td>WearableSmartDevice</td>\n",
       "    </tr>\n",
       "    <tr>\n",
       "      <th>22153</th>\n",
       "      <td>model-number itemmart-m4-black model-number sw...</td>\n",
       "      <td>WearableSmartDevice</td>\n",
       "    </tr>\n",
       "    <tr>\n",
       "      <th>22154</th>\n",
       "      <td>model-number itemmart-m4-black model-number sw...</td>\n",
       "      <td>WearableSmartDevice</td>\n",
       "    </tr>\n",
       "    <tr>\n",
       "      <th>22155</th>\n",
       "      <td>model-number itemmart-m4-black model-number sw...</td>\n",
       "      <td>WearableSmartDevice</td>\n",
       "    </tr>\n",
       "    <tr>\n",
       "      <th>22156</th>\n",
       "      <td>model-number itemmart-m4-black model-number sw...</td>\n",
       "      <td>WearableSmartDevice</td>\n",
       "    </tr>\n",
       "  </tbody>\n",
       "</table>\n",
       "<p>22157 rows × 2 columns</p>\n",
       "</div>"
      ],
      "text/plain": [
       "                                                 queries                files\n",
       "0                       minimum-focusing-distance 0.49-m           CameraLens\n",
       "1                              maximum-magnification-(x)           CameraLens\n",
       "2                                   maximum-focal-length           CameraLens\n",
       "3                                       lens-cap snap-on           CameraLens\n",
       "4                                                  black           CameraLens\n",
       "...                                                  ...                  ...\n",
       "22152  model-number itemmart-m4-black model-number sw...  WearableSmartDevice\n",
       "22153  model-number itemmart-m4-black model-number sw...  WearableSmartDevice\n",
       "22154  model-number itemmart-m4-black model-number sw...  WearableSmartDevice\n",
       "22155  model-number itemmart-m4-black model-number sw...  WearableSmartDevice\n",
       "22156  model-number itemmart-m4-black model-number sw...  WearableSmartDevice\n",
       "\n",
       "[22157 rows x 2 columns]"
      ]
     },
     "execution_count": 3,
     "metadata": {},
     "output_type": "execute_result"
    }
   ],
   "source": [
    "data"
   ]
  },
  {
   "cell_type": "code",
   "execution_count": 4,
   "id": "947ebfeb",
   "metadata": {
    "execution": {
     "iopub.execute_input": "2022-12-21T19:49:46.786531Z",
     "iopub.status.busy": "2022-12-21T19:49:46.786266Z",
     "iopub.status.idle": "2022-12-21T19:49:47.027819Z",
     "shell.execute_reply": "2022-12-21T19:49:47.026812Z"
    },
    "papermill": {
     "duration": 0.249589,
     "end_time": "2022-12-21T19:49:47.030131",
     "exception": false,
     "start_time": "2022-12-21T19:49:46.780542",
     "status": "completed"
    },
    "tags": []
   },
   "outputs": [],
   "source": [
    "data = data.reset_index(drop=True)\n",
    "REPLACE_BY_SPACE_RE = re.compile('[/(){}\\[\\]\\|@,;]')\n",
    "BAD_SYMBOLS_RE = re.compile('[^0-9a-z #.+_-]')\n",
    "STOPWORDS = set(stopwords.words('english'))\n",
    "\n",
    "def clean_text(text):\n",
    "    \"\"\"\n",
    "        text: a string\n",
    "        \n",
    "        return: modified initial string\n",
    "    \"\"\"\n",
    "    text = REPLACE_BY_SPACE_RE.sub(' ', text) # replace REPLACE_BY_SPACE_RE symbols by space in text. substitute the matched string in REPLACE_BY_SPACE_RE with space.\n",
    "    text = BAD_SYMBOLS_RE.sub('', text) # remove symbols which are in BAD_SYMBOLS_RE from text. substitute the matched string in BAD_SYMBOLS_RE with nothing. \n",
    "    text = ' '.join(word for word in text.split() if word not in STOPWORDS) # remove stopwors from text\n",
    "    text = re.sub('-',' ',text)\n",
    "    return text\n",
    "\n",
    "data['queries'] = data['queries'].apply(clean_text)"
   ]
  },
  {
   "cell_type": "code",
   "execution_count": 5,
   "id": "889f4af9",
   "metadata": {
    "execution": {
     "iopub.execute_input": "2022-12-21T19:49:47.041341Z",
     "iopub.status.busy": "2022-12-21T19:49:47.041031Z",
     "iopub.status.idle": "2022-12-21T19:49:47.051877Z",
     "shell.execute_reply": "2022-12-21T19:49:47.050873Z"
    },
    "papermill": {
     "duration": 0.018849,
     "end_time": "2022-12-21T19:49:47.054026",
     "exception": false,
     "start_time": "2022-12-21T19:49:47.035177",
     "status": "completed"
    },
    "tags": []
   },
   "outputs": [
    {
     "data": {
      "text/html": [
       "<div>\n",
       "<style scoped>\n",
       "    .dataframe tbody tr th:only-of-type {\n",
       "        vertical-align: middle;\n",
       "    }\n",
       "\n",
       "    .dataframe tbody tr th {\n",
       "        vertical-align: top;\n",
       "    }\n",
       "\n",
       "    .dataframe thead th {\n",
       "        text-align: right;\n",
       "    }\n",
       "</style>\n",
       "<table border=\"1\" class=\"dataframe\">\n",
       "  <thead>\n",
       "    <tr style=\"text-align: right;\">\n",
       "      <th></th>\n",
       "      <th>queries</th>\n",
       "      <th>files</th>\n",
       "    </tr>\n",
       "  </thead>\n",
       "  <tbody>\n",
       "    <tr>\n",
       "      <th>0</th>\n",
       "      <td>minimum focusing distance 0.49 m</td>\n",
       "      <td>CameraLens</td>\n",
       "    </tr>\n",
       "    <tr>\n",
       "      <th>1</th>\n",
       "      <td>maximum magnification  x</td>\n",
       "      <td>CameraLens</td>\n",
       "    </tr>\n",
       "    <tr>\n",
       "      <th>2</th>\n",
       "      <td>maximum focal length</td>\n",
       "      <td>CameraLens</td>\n",
       "    </tr>\n",
       "    <tr>\n",
       "      <th>3</th>\n",
       "      <td>lens cap snap on</td>\n",
       "      <td>CameraLens</td>\n",
       "    </tr>\n",
       "    <tr>\n",
       "      <th>4</th>\n",
       "      <td>black</td>\n",
       "      <td>CameraLens</td>\n",
       "    </tr>\n",
       "    <tr>\n",
       "      <th>...</th>\n",
       "      <td>...</td>\n",
       "      <td>...</td>\n",
       "    </tr>\n",
       "    <tr>\n",
       "      <th>22152</th>\n",
       "      <td>model number itemmart m4 black model number sw...</td>\n",
       "      <td>WearableSmartDevice</td>\n",
       "    </tr>\n",
       "    <tr>\n",
       "      <th>22153</th>\n",
       "      <td>model number itemmart m4 black model number sw...</td>\n",
       "      <td>WearableSmartDevice</td>\n",
       "    </tr>\n",
       "    <tr>\n",
       "      <th>22154</th>\n",
       "      <td>model number itemmart m4 black model number sw...</td>\n",
       "      <td>WearableSmartDevice</td>\n",
       "    </tr>\n",
       "    <tr>\n",
       "      <th>22155</th>\n",
       "      <td>model number itemmart m4 black model number sw...</td>\n",
       "      <td>WearableSmartDevice</td>\n",
       "    </tr>\n",
       "    <tr>\n",
       "      <th>22156</th>\n",
       "      <td>model number itemmart m4 black model number sw...</td>\n",
       "      <td>WearableSmartDevice</td>\n",
       "    </tr>\n",
       "  </tbody>\n",
       "</table>\n",
       "<p>22157 rows × 2 columns</p>\n",
       "</div>"
      ],
      "text/plain": [
       "                                                 queries                files\n",
       "0                       minimum focusing distance 0.49 m           CameraLens\n",
       "1                               maximum magnification  x           CameraLens\n",
       "2                                   maximum focal length           CameraLens\n",
       "3                                       lens cap snap on           CameraLens\n",
       "4                                                  black           CameraLens\n",
       "...                                                  ...                  ...\n",
       "22152  model number itemmart m4 black model number sw...  WearableSmartDevice\n",
       "22153  model number itemmart m4 black model number sw...  WearableSmartDevice\n",
       "22154  model number itemmart m4 black model number sw...  WearableSmartDevice\n",
       "22155  model number itemmart m4 black model number sw...  WearableSmartDevice\n",
       "22156  model number itemmart m4 black model number sw...  WearableSmartDevice\n",
       "\n",
       "[22157 rows x 2 columns]"
      ]
     },
     "execution_count": 5,
     "metadata": {},
     "output_type": "execute_result"
    }
   ],
   "source": [
    "data"
   ]
  },
  {
   "cell_type": "code",
   "execution_count": 6,
   "id": "65c5e672",
   "metadata": {
    "execution": {
     "iopub.execute_input": "2022-12-21T19:49:47.065382Z",
     "iopub.status.busy": "2022-12-21T19:49:47.065121Z",
     "iopub.status.idle": "2022-12-21T19:49:47.069569Z",
     "shell.execute_reply": "2022-12-21T19:49:47.068555Z"
    },
    "papermill": {
     "duration": 0.012763,
     "end_time": "2022-12-21T19:49:47.071819",
     "exception": false,
     "start_time": "2022-12-21T19:49:47.059056",
     "status": "completed"
    },
    "tags": []
   },
   "outputs": [],
   "source": [
    "filename = ['CameraLens', 'Laptop', 'LaptopPeriferals', 'Mobile','Refrigerator', 'Tablet', 'TV', 'WashingMachine','WearableSmartDevice']"
   ]
  },
  {
   "cell_type": "code",
   "execution_count": 7,
   "id": "1e81f48a",
   "metadata": {
    "execution": {
     "iopub.execute_input": "2022-12-21T19:49:47.082919Z",
     "iopub.status.busy": "2022-12-21T19:49:47.082661Z",
     "iopub.status.idle": "2022-12-21T19:49:47.422600Z",
     "shell.execute_reply": "2022-12-21T19:49:47.421400Z"
    },
    "papermill": {
     "duration": 0.348559,
     "end_time": "2022-12-21T19:49:47.425414",
     "exception": false,
     "start_time": "2022-12-21T19:49:47.076855",
     "status": "completed"
    },
    "tags": []
   },
   "outputs": [
    {
     "name": "stdout",
     "output_type": "stream",
     "text": [
      "Found 3111 unique tokens.\n"
     ]
    }
   ],
   "source": [
    "# The maximum number of words to be used. (most frequent)\n",
    "MAX_NB_WORDS = 50000\n",
    "# Max number of words in each complaint.\n",
    "MAX_SEQUENCE_LENGTH = 32\n",
    "# This is fixed.\n",
    "EMBEDDING_DIM = 100\n",
    "tokenizer = Tokenizer(num_words=MAX_NB_WORDS, filters='!\"#$%&()*+,-./:;<=>?@[\\]^_`{|}~', lower=True)\n",
    "tokenizer.fit_on_texts(data['queries'].values)\n",
    "word_index = tokenizer.word_index\n",
    "print('Found %s unique tokens.' % len(word_index))"
   ]
  },
  {
   "cell_type": "code",
   "execution_count": 8,
   "id": "b4983afa",
   "metadata": {
    "execution": {
     "iopub.execute_input": "2022-12-21T19:49:47.440288Z",
     "iopub.status.busy": "2022-12-21T19:49:47.439468Z",
     "iopub.status.idle": "2022-12-21T19:49:47.785000Z",
     "shell.execute_reply": "2022-12-21T19:49:47.783782Z"
    },
    "papermill": {
     "duration": 0.355372,
     "end_time": "2022-12-21T19:49:47.787135",
     "exception": false,
     "start_time": "2022-12-21T19:49:47.431763",
     "status": "completed"
    },
    "tags": []
   },
   "outputs": [
    {
     "name": "stdout",
     "output_type": "stream",
     "text": [
      "Shape of data tensor: (22157, 32)\n"
     ]
    }
   ],
   "source": [
    "X = tokenizer.texts_to_sequences(data['queries'].values)\n",
    "X = pad_sequences(X, maxlen=MAX_SEQUENCE_LENGTH)\n",
    "print('Shape of data tensor:', X.shape)"
   ]
  },
  {
   "cell_type": "code",
   "execution_count": 9,
   "id": "0eaf823e",
   "metadata": {
    "execution": {
     "iopub.execute_input": "2022-12-21T19:49:47.798900Z",
     "iopub.status.busy": "2022-12-21T19:49:47.798618Z",
     "iopub.status.idle": "2022-12-21T19:49:47.811564Z",
     "shell.execute_reply": "2022-12-21T19:49:47.810312Z"
    },
    "papermill": {
     "duration": 0.02148,
     "end_time": "2022-12-21T19:49:47.813926",
     "exception": false,
     "start_time": "2022-12-21T19:49:47.792446",
     "status": "completed"
    },
    "tags": []
   },
   "outputs": [
    {
     "name": "stdout",
     "output_type": "stream",
     "text": [
      "Shape of label tensor: (22157, 9)\n"
     ]
    }
   ],
   "source": [
    "Y = pd.get_dummies(data['files']).values\n",
    "print('Shape of label tensor:', Y.shape)"
   ]
  },
  {
   "cell_type": "code",
   "execution_count": 10,
   "id": "2dea5fec",
   "metadata": {
    "execution": {
     "iopub.execute_input": "2022-12-21T19:49:47.826529Z",
     "iopub.status.busy": "2022-12-21T19:49:47.825661Z",
     "iopub.status.idle": "2022-12-21T19:49:47.836042Z",
     "shell.execute_reply": "2022-12-21T19:49:47.834659Z"
    },
    "papermill": {
     "duration": 0.018397,
     "end_time": "2022-12-21T19:49:47.837933",
     "exception": false,
     "start_time": "2022-12-21T19:49:47.819536",
     "status": "completed"
    },
    "tags": []
   },
   "outputs": [
    {
     "name": "stdout",
     "output_type": "stream",
     "text": [
      "(17725, 32) (17725, 9)\n",
      "(4432, 32) (4432, 9)\n"
     ]
    }
   ],
   "source": [
    "X_train, X_test, Y_train, Y_test = train_test_split(X,Y, test_size = 0.20, random_state = 42)\n",
    "print(X_train.shape,Y_train.shape)\n",
    "print(X_test.shape,Y_test.shape)"
   ]
  },
  {
   "cell_type": "code",
   "execution_count": 11,
   "id": "00fcb531",
   "metadata": {
    "execution": {
     "iopub.execute_input": "2022-12-21T19:49:47.849657Z",
     "iopub.status.busy": "2022-12-21T19:49:47.849405Z",
     "iopub.status.idle": "2022-12-21T19:52:56.920714Z",
     "shell.execute_reply": "2022-12-21T19:52:56.919766Z"
    },
    "papermill": {
     "duration": 189.079521,
     "end_time": "2022-12-21T19:52:56.922933",
     "exception": false,
     "start_time": "2022-12-21T19:49:47.843412",
     "status": "completed"
    },
    "tags": []
   },
   "outputs": [
    {
     "name": "stderr",
     "output_type": "stream",
     "text": [
      "2022-12-21 19:49:47.941145: I tensorflow/stream_executor/cuda/cuda_gpu_executor.cc:937] successful NUMA node read from SysFS had negative value (-1), but there must be at least one NUMA node, so returning NUMA node zero\n",
      "2022-12-21 19:49:47.942254: I tensorflow/stream_executor/cuda/cuda_gpu_executor.cc:937] successful NUMA node read from SysFS had negative value (-1), but there must be at least one NUMA node, so returning NUMA node zero\n",
      "2022-12-21 19:49:47.942924: I tensorflow/stream_executor/cuda/cuda_gpu_executor.cc:937] successful NUMA node read from SysFS had negative value (-1), but there must be at least one NUMA node, so returning NUMA node zero\n",
      "2022-12-21 19:49:47.943770: I tensorflow/core/platform/cpu_feature_guard.cc:142] This TensorFlow binary is optimized with oneAPI Deep Neural Network Library (oneDNN) to use the following CPU instructions in performance-critical operations:  AVX2 AVX512F FMA\n",
      "To enable them in other operations, rebuild TensorFlow with the appropriate compiler flags.\n",
      "2022-12-21 19:49:47.944101: I tensorflow/stream_executor/cuda/cuda_gpu_executor.cc:937] successful NUMA node read from SysFS had negative value (-1), but there must be at least one NUMA node, so returning NUMA node zero\n",
      "2022-12-21 19:49:47.944803: I tensorflow/stream_executor/cuda/cuda_gpu_executor.cc:937] successful NUMA node read from SysFS had negative value (-1), but there must be at least one NUMA node, so returning NUMA node zero\n",
      "2022-12-21 19:49:47.945498: I tensorflow/stream_executor/cuda/cuda_gpu_executor.cc:937] successful NUMA node read from SysFS had negative value (-1), but there must be at least one NUMA node, so returning NUMA node zero\n",
      "2022-12-21 19:49:52.572448: I tensorflow/stream_executor/cuda/cuda_gpu_executor.cc:937] successful NUMA node read from SysFS had negative value (-1), but there must be at least one NUMA node, so returning NUMA node zero\n",
      "2022-12-21 19:49:52.573345: I tensorflow/stream_executor/cuda/cuda_gpu_executor.cc:937] successful NUMA node read from SysFS had negative value (-1), but there must be at least one NUMA node, so returning NUMA node zero\n",
      "2022-12-21 19:49:52.574122: I tensorflow/stream_executor/cuda/cuda_gpu_executor.cc:937] successful NUMA node read from SysFS had negative value (-1), but there must be at least one NUMA node, so returning NUMA node zero\n",
      "2022-12-21 19:49:52.574717: I tensorflow/core/common_runtime/gpu/gpu_device.cc:1510] Created device /job:localhost/replica:0/task:0/device:GPU:0 with 15043 MB memory:  -> device: 0, name: Tesla P100-PCIE-16GB, pci bus id: 0000:00:04.0, compute capability: 6.0\n",
      "2022-12-21 19:49:53.486313: I tensorflow/compiler/mlir/mlir_graph_optimization_pass.cc:185] None of the MLIR Optimization Passes are enabled (registered 2)\n"
     ]
    },
    {
     "name": "stdout",
     "output_type": "stream",
     "text": [
      "Epoch 1/5\n",
      "250/250 [==============================] - 39s 145ms/step - loss: 0.6454 - accuracy: 0.8091 - val_loss: 0.2840 - val_accuracy: 0.9064\n",
      "Epoch 2/5\n",
      "250/250 [==============================] - 36s 145ms/step - loss: 0.2346 - accuracy: 0.9224 - val_loss: 0.2155 - val_accuracy: 0.9210\n",
      "Epoch 3/5\n",
      "250/250 [==============================] - 36s 145ms/step - loss: 0.1604 - accuracy: 0.9479 - val_loss: 0.1806 - val_accuracy: 0.9340\n",
      "Epoch 4/5\n",
      "250/250 [==============================] - 36s 143ms/step - loss: 0.1167 - accuracy: 0.9635 - val_loss: 0.1800 - val_accuracy: 0.9340\n",
      "Epoch 5/5\n",
      "250/250 [==============================] - 36s 143ms/step - loss: 0.0863 - accuracy: 0.9715 - val_loss: 0.1934 - val_accuracy: 0.9329\n"
     ]
    }
   ],
   "source": [
    "model = Sequential()\n",
    "model.add(Embedding(MAX_NB_WORDS, EMBEDDING_DIM, input_length=X.shape[1]))\n",
    "model.add(SpatialDropout1D(0.2))\n",
    "model.add(LSTM(100, dropout=0.2, recurrent_dropout=0.2))\n",
    "model.add(Dense(9, activation='softmax'))\n",
    "model.compile(loss='categorical_crossentropy', optimizer='adam', metrics=['accuracy'])\n",
    "\n",
    "epochs = 5\n",
    "batch_size = 64\n",
    "\n",
    "history = model.fit(X_train, Y_train, epochs=epochs, batch_size=batch_size,validation_split=0.1,callbacks=[EarlyStopping(monitor='val_loss', patience=3, min_delta=0.0001)])"
   ]
  },
  {
   "cell_type": "code",
   "execution_count": 12,
   "id": "fa8912ec",
   "metadata": {
    "execution": {
     "iopub.execute_input": "2022-12-21T19:52:57.060355Z",
     "iopub.status.busy": "2022-12-21T19:52:57.060012Z",
     "iopub.status.idle": "2022-12-21T19:52:58.336233Z",
     "shell.execute_reply": "2022-12-21T19:52:58.335091Z"
    },
    "papermill": {
     "duration": 1.347841,
     "end_time": "2022-12-21T19:52:58.339091",
     "exception": false,
     "start_time": "2022-12-21T19:52:56.991250",
     "status": "completed"
    },
    "tags": []
   },
   "outputs": [
    {
     "name": "stdout",
     "output_type": "stream",
     "text": [
      "139/139 [==============================] - 1s 9ms/step - loss: 0.1844 - accuracy: 0.9361\n",
      "Test set\n",
      "  Loss: 0.184\n",
      "  Accuracy: 0.936\n"
     ]
    }
   ],
   "source": [
    "accr = model.evaluate(X_test,Y_test)\n",
    "print('Test set\\n  Loss: {:0.3f}\\n  Accuracy: {:0.3f}'.format(accr[0],accr[1]))"
   ]
  },
  {
   "cell_type": "code",
   "execution_count": 13,
   "id": "80a12ba1",
   "metadata": {
    "execution": {
     "iopub.execute_input": "2022-12-21T19:52:58.477968Z",
     "iopub.status.busy": "2022-12-21T19:52:58.477666Z",
     "iopub.status.idle": "2022-12-21T19:52:58.707353Z",
     "shell.execute_reply": "2022-12-21T19:52:58.706503Z"
    },
    "papermill": {
     "duration": 0.301214,
     "end_time": "2022-12-21T19:52:58.709358",
     "exception": false,
     "start_time": "2022-12-21T19:52:58.408144",
     "status": "completed"
    },
    "tags": []
   },
   "outputs": [
    {
     "data": {
      "image/png": "[encoded data removed]",
      "text/plain": [
       "<Figure size 432x288 with 1 Axes>"
      ]
     },
     "metadata": {
      "needs_background": "light"
     },
     "output_type": "display_data"
    }
   ],
   "source": [
    "import matplotlib.pyplot as plt\n",
    "plt.title('Loss')\n",
    "plt.plot(history.history['loss'], label='train')\n",
    "plt.plot(history.history['val_loss'], label='test')\n",
    "plt.legend()\n",
    "plt.show();"
   ]
  },
  {
   "cell_type": "code",
   "execution_count": 14,
   "id": "6806fae3",
   "metadata": {
    "execution": {
     "iopub.execute_input": "2022-12-21T19:52:58.848466Z",
     "iopub.status.busy": "2022-12-21T19:52:58.848169Z",
     "iopub.status.idle": "2022-12-21T19:52:59.060530Z",
     "shell.execute_reply": "2022-12-21T19:52:59.059554Z"
    },
    "papermill": {
     "duration": 0.283916,
     "end_time": "2022-12-21T19:52:59.062549",
     "exception": false,
     "start_time": "2022-12-21T19:52:58.778633",
     "status": "completed"
    },
    "tags": []
   },
   "outputs": [
    {
     "data": {
      "image/png": "[encoded data removed]",
      "text/plain": [
       "<Figure size 432x288 with 1 Axes>"
      ]
     },
     "metadata": {
      "needs_background": "light"
     },
     "output_type": "display_data"
    }
   ],
   "source": [
    "plt.title('Accuracy')\n",
    "plt.plot(history.history['accuracy'], label='train')\n",
    "plt.plot(history.history['val_accuracy'], label='test')\n",
    "plt.legend()\n",
    "plt.show();"
   ]
  },
  {
   "cell_type": "code",
   "execution_count": 15,
   "id": "6324fe6e",
   "metadata": {
    "execution": {
     "iopub.execute_input": "2022-12-21T19:52:59.202374Z",
     "iopub.status.busy": "2022-12-21T19:52:59.201659Z",
     "iopub.status.idle": "2022-12-21T19:52:59.207456Z",
     "shell.execute_reply": "2022-12-21T19:52:59.206426Z"
    },
    "papermill": {
     "duration": 0.079423,
     "end_time": "2022-12-21T19:52:59.211337",
     "exception": false,
     "start_time": "2022-12-21T19:52:59.131914",
     "status": "completed"
    },
    "tags": []
   },
   "outputs": [
    {
     "name": "stdout",
     "output_type": "stream",
     "text": [
      "1\n",
      "1\n"
     ]
    }
   ],
   "source": [
    "sample_query = ['minimum focusing distance 0.49 m','lens cap snap on']\n",
    "for query in sample_query:\n",
    "    X_sample = tokenizer.texts_to_sequences([query])\n",
    "    X_sample = pad_sequences(X_sample, maxlen=MAX_SEQUENCE_LENGTH)\n",
    "    print(len(X_sample))"
   ]
  },
  {
   "cell_type": "code",
   "execution_count": 16,
   "id": "a12af0b7",
   "metadata": {
    "execution": {
     "iopub.execute_input": "2022-12-21T19:52:59.352511Z",
     "iopub.status.busy": "2022-12-21T19:52:59.352193Z",
     "iopub.status.idle": "2022-12-21T19:52:59.359364Z",
     "shell.execute_reply": "2022-12-21T19:52:59.358298Z"
    },
    "papermill": {
     "duration": 0.080129,
     "end_time": "2022-12-21T19:52:59.361673",
     "exception": false,
     "start_time": "2022-12-21T19:52:59.281544",
     "status": "completed"
    },
    "tags": []
   },
   "outputs": [
    {
     "data": {
      "text/plain": [
       "1"
      ]
     },
     "execution_count": 16,
     "metadata": {},
     "output_type": "execute_result"
    }
   ],
   "source": [
    "len(X_sample)"
   ]
  },
  {
   "cell_type": "code",
   "execution_count": 17,
   "id": "10d862db",
   "metadata": {
    "execution": {
     "iopub.execute_input": "2022-12-21T19:52:59.502558Z",
     "iopub.status.busy": "2022-12-21T19:52:59.501630Z",
     "iopub.status.idle": "2022-12-21T19:52:59.509624Z",
     "shell.execute_reply": "2022-12-21T19:52:59.508763Z"
    },
    "papermill": {
     "duration": 0.08164,
     "end_time": "2022-12-21T19:52:59.511622",
     "exception": false,
     "start_time": "2022-12-21T19:52:59.429982",
     "status": "completed"
    },
    "tags": []
   },
   "outputs": [
    {
     "data": {
      "text/plain": [
       "array([[  0,   0,   0,   0,   0,   0,   0,   0,   0,   0,   0,   0,   0,\n",
       "          0,   0,   0,   0,   0,   0,   0,   0,   0,   0,   0,   0,   0,\n",
       "          0,   0, 104, 118, 133, 120]], dtype=int32)"
      ]
     },
     "execution_count": 17,
     "metadata": {},
     "output_type": "execute_result"
    }
   ],
   "source": [
    "X_sample"
   ]
  },
  {
   "cell_type": "code",
   "execution_count": 18,
   "id": "d3d68ba0",
   "metadata": {
    "execution": {
     "iopub.execute_input": "2022-12-21T19:52:59.651485Z",
     "iopub.status.busy": "2022-12-21T19:52:59.651220Z",
     "iopub.status.idle": "2022-12-21T19:52:59.902288Z",
     "shell.execute_reply": "2022-12-21T19:52:59.901140Z"
    },
    "papermill": {
     "duration": 0.323257,
     "end_time": "2022-12-21T19:52:59.904401",
     "exception": false,
     "start_time": "2022-12-21T19:52:59.581144",
     "status": "completed"
    },
    "tags": []
   },
   "outputs": [
    {
     "name": "stdout",
     "output_type": "stream",
     "text": [
      "[[9.9960965e-01 2.0314235e-04 4.4864828e-05 1.6148826e-05 3.3672181e-06\n",
      "  1.8934652e-05 1.6990532e-05 4.7774938e-05 3.9112991e-05]]\n"
     ]
    }
   ],
   "source": [
    "predict_x=model.predict(X_sample)\n",
    "print(predict_x)"
   ]
  },
  {
   "cell_type": "code",
   "execution_count": 19,
   "id": "89c5a194",
   "metadata": {
    "execution": {
     "iopub.execute_input": "2022-12-21T19:53:00.095780Z",
     "iopub.status.busy": "2022-12-21T19:53:00.095266Z",
     "iopub.status.idle": "2022-12-21T19:53:00.103179Z",
     "shell.execute_reply": "2022-12-21T19:53:00.101863Z"
    },
    "papermill": {
     "duration": 0.132203,
     "end_time": "2022-12-21T19:53:00.107913",
     "exception": false,
     "start_time": "2022-12-21T19:52:59.975710",
     "status": "completed"
    },
    "tags": []
   },
   "outputs": [
    {
     "data": {
      "text/plain": [
       "array([[9.9960965e-01, 2.0314235e-04, 4.4864828e-05, 1.6148826e-05,\n",
       "        3.3672181e-06, 1.8934652e-05, 1.6990532e-05, 4.7774938e-05,\n",
       "        3.9112991e-05]], dtype=float32)"
      ]
     },
     "execution_count": 19,
     "metadata": {},
     "output_type": "execute_result"
    }
   ],
   "source": [
    "predict_x"
   ]
  },
  {
   "cell_type": "code",
   "execution_count": 20,
   "id": "7dc7185f",
   "metadata": {
    "execution": {
     "iopub.execute_input": "2022-12-21T19:53:00.336015Z",
     "iopub.status.busy": "2022-12-21T19:53:00.335590Z",
     "iopub.status.idle": "2022-12-21T19:53:00.344952Z",
     "shell.execute_reply": "2022-12-21T19:53:00.343838Z"
    },
    "papermill": {
     "duration": 0.118267,
     "end_time": "2022-12-21T19:53:00.347972",
     "exception": false,
     "start_time": "2022-12-21T19:53:00.229705",
     "status": "completed"
    },
    "tags": []
   },
   "outputs": [
    {
     "name": "stdout",
     "output_type": "stream",
     "text": [
      "['CameraLens', 'Laptop', 'WashingMachine', 'LaptopPeriferals', 'WearableSmartDevice', 'Tablet', 'TV', 'Mobile', 'Refrigerator']\n"
     ]
    }
   ],
   "source": [
    "result = [val for (_, val) in sorted(zip(predict_x[0], filename), key=lambda x: x[0],reverse = True)]\n",
    "print(result)"
   ]
  },
  {
   "cell_type": "code",
   "execution_count": 21,
   "id": "ba61d19f",
   "metadata": {
    "execution": {
     "iopub.execute_input": "2022-12-21T19:53:00.555484Z",
     "iopub.status.busy": "2022-12-21T19:53:00.555112Z",
     "iopub.status.idle": "2022-12-21T19:53:03.818740Z",
     "shell.execute_reply": "2022-12-21T19:53:03.817730Z"
    },
    "papermill": {
     "duration": 3.370446,
     "end_time": "2022-12-21T19:53:03.821612",
     "exception": false,
     "start_time": "2022-12-21T19:53:00.451166",
     "status": "completed"
    },
    "tags": []
   },
   "outputs": [
    {
     "name": "stderr",
     "output_type": "stream",
     "text": [
      "2022-12-21 19:53:01.631394: W tensorflow/python/util/util.cc:348] Sets are not currently considered sequences, but this may change in the future, so consider avoiding using them.\n"
     ]
    }
   ],
   "source": [
    "save_model(model,'/kaggle/working/query_model.model')"
   ]
  },
  {
   "cell_type": "code",
   "execution_count": 22,
   "id": "d1636682",
   "metadata": {
    "execution": {
     "iopub.execute_input": "2022-12-21T19:53:03.962500Z",
     "iopub.status.busy": "2022-12-21T19:53:03.962180Z",
     "iopub.status.idle": "2022-12-21T19:53:03.970372Z",
     "shell.execute_reply": "2022-12-21T19:53:03.969534Z"
    },
    "papermill": {
     "duration": 0.080593,
     "end_time": "2022-12-21T19:53:03.972482",
     "exception": false,
     "start_time": "2022-12-21T19:53:03.891889",
     "status": "completed"
    },
    "tags": []
   },
   "outputs": [],
   "source": [
    "import pickle\n",
    "\n",
    "with open('tokenizer.pickle', 'wb') as handle:\n",
    "    pickle.dump(tokenizer, handle, protocol=pickle.HIGHEST_PROTOCOL)"
   ]
  }
 ],
 "metadata": {
  "kernelspec": {
   "display_name": "Python 3",
   "language": "python",
   "name": "python3"
  },
  "language_info": {
   "codemirror_mode": {
    "name": "ipython",
    "version": 3
   },
   "file_extension": ".py",
   "mimetype": "text/x-python",
   "name": "python",
   "nbconvert_exporter": "python",
   "pygments_lexer": "ipython3",
   "version": "3.10.7"
  },
  "papermill": {
   "default_parameters": {},
   "duration": 215.61869,
   "end_time": "2022-12-21T19:53:07.072450",
   "environment_variables": {},
   "exception": null,
   "input_path": "__notebook__.ipynb",
   "output_path": "__notebook__.ipynb",
   "parameters": {},
   "start_time": "2022-12-21T19:49:31.453760",
   "version": "2.3.4"
  },
  "vscode": {
   "interpreter": {
    "hash": "369f2c481f4da34e4445cda3fffd2e751bd1c4d706f27375911949ba6bb62e1c"
   }
  }
 },
 "nbformat": 4,
 "nbformat_minor": 5
}
